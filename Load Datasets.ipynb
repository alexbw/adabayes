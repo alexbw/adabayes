{
 "metadata": {
  "language": "lua",
  "name": "",
  "signature": "sha256:6303ee50106671a4d40ef7b5e18f8877596c465f607b7e47b712231110ec5ba8"
 },
 "nbformat": 3,
 "nbformat_minor": 0,
 "worksheets": [
  {
   "cells": [
    {
     "cell_type": "code",
     "collapsed": false,
     "input": [
      "require 'dp';"
     ],
     "language": "python",
     "metadata": {},
     "outputs": [],
     "prompt_number": 3
    },
    {
     "cell_type": "code",
     "collapsed": false,
     "input": [
      "mnist = dp.Mnist{data_path=\"/Users/Alex/data\"}"
     ],
     "language": "python",
     "metadata": {},
     "outputs": [],
     "prompt_number": 33
    },
    {
     "cell_type": "code",
     "collapsed": false,
     "input": [
      "cifar100 = dp.Cifar100{data_path=\"/Users/Alex/data\"}"
     ],
     "language": "python",
     "metadata": {},
     "outputs": [
      {
       "metadata": {},
       "output_type": "pyout",
       "prompt_number": 4,
       "text": [
        "shuffling train/valid set\t\n"
       ]
      },
      {
       "metadata": {},
       "output_type": "pyout",
       "prompt_number": 4,
       "text": [
        "shuffling test set\t\n"
       ]
      }
     ],
     "prompt_number": 4
    },
    {
     "cell_type": "code",
     "collapsed": false,
     "input": [
      "cifar10 = dp.Cifar10{data_path=\"/Users/Alex/data\",\n",
      "                     download_url=\"http://torch7.s3-website-us-east-1.amazonaws.com/data/cifar-10-torch.tar.gz\"}"
     ],
     "language": "python",
     "metadata": {},
     "outputs": [],
     "prompt_number": 35
    },
    {
     "cell_type": "code",
     "collapsed": false,
     "input": [
      "-- TODO:\n",
      "-- Get the goshdarned data out of the goshdarned convoluted DataSource format. Why so hard?"
     ],
     "language": "python",
     "metadata": {},
     "outputs": []
    }
   ],
   "metadata": {}
  }
 ]
}