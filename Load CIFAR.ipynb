{
 "metadata": {
  "language": "lua",
  "name": "",
  "signature": "sha256:ce6c77d783b0dd85b1203661c78b6b5a8d977cd0239c140cab01182e55656348"
 },
 "nbformat": 3,
 "nbformat_minor": 0,
 "worksheets": [
  {
   "cells": [
    {
     "cell_type": "code",
     "collapsed": false,
     "input": [
      "require 'torch'\n",
      "require 'nn'\n",
      "require 'nnx'\n",
      "require 'image' \n",
      "require 'optim'"
     ],
     "language": "python",
     "metadata": {},
     "outputs": [],
     "prompt_number": 13
    },
    {
     "cell_type": "code",
     "collapsed": false,
     "input": [
      "-- download dataset\n",
      "if not paths.dirp('cifar-10-batches-t7') then\n",
      "   local www = 'http://torch7.s3-website-us-east-1.amazonaws.com/data/cifar-10-torch.tar.gz'\n",
      "   local tar = paths.basename(www)\n",
      "   os.execute('wget ' .. www .. '; '.. 'tar xvf ' .. tar)\n",
      "end"
     ],
     "language": "python",
     "metadata": {},
     "outputs": [],
     "prompt_number": 2
    },
    {
     "cell_type": "code",
     "collapsed": false,
     "input": [
      "trsize = 50000\n",
      "tesize = 10000"
     ],
     "language": "python",
     "metadata": {},
     "outputs": [],
     "prompt_number": 3
    },
    {
     "cell_type": "code",
     "collapsed": false,
     "input": [
      "-- load dataset\n",
      "trainData = {\n",
      "   data = torch.Tensor(50000, 3072),\n",
      "   labels = torch.Tensor(50000),\n",
      "   size = function() return trsize end\n",
      "}\n",
      "for i = 0,4 do\n",
      "   subset = torch.load('cifar-10-batches-t7/data_batch_' .. (i+1) .. '.t7', 'ascii')\n",
      "   trainData.data[{ {i*10000+1, (i+1)*10000} }] = subset.data:t()\n",
      "   trainData.labels[{ {i*10000+1, (i+1)*10000} }] = subset.labels\n",
      "end\n",
      "trainData.labels = trainData.labels + 1\n",
      "\n",
      "subset = torch.load('cifar-10-batches-t7/test_batch.t7', 'ascii')\n",
      "testData = {\n",
      "   data = subset.data:t():double(),\n",
      "   labels = subset.labels[1]:double(),\n",
      "   size = function() return tesize end\n",
      "}\n",
      "testData.labels = testData.labels + 1"
     ],
     "language": "python",
     "metadata": {},
     "outputs": [],
     "prompt_number": 4
    },
    {
     "cell_type": "code",
     "collapsed": false,
     "input": [
      "-- resize dataset (if using small version)\n",
      "trainData.data = trainData.data[{ {1,trsize} }]\n",
      "trainData.labels = trainData.labels[{ {1,trsize} }]"
     ],
     "language": "python",
     "metadata": {},
     "outputs": [],
     "prompt_number": 5
    },
    {
     "cell_type": "code",
     "collapsed": false,
     "input": [
      "testData.data = testData.data[{ {1,tesize} }]\n",
      "testData.labels = testData.labels[{ {1,tesize} }]"
     ],
     "language": "python",
     "metadata": {},
     "outputs": [],
     "prompt_number": 6
    },
    {
     "cell_type": "code",
     "collapsed": false,
     "input": [
      "-- reshape data\n",
      "trainData.data = trainData.data:reshape(trsize,3,32,32)\n",
      "testData.data = testData.data:reshape(tesize,3,32,32)"
     ],
     "language": "python",
     "metadata": {},
     "outputs": [],
     "prompt_number": 7
    },
    {
     "cell_type": "code",
     "collapsed": false,
     "input": [
      "----------------------------------------------------------------------\n",
      "-- preprocess/normalize train/test sets\n",
      "--\n",
      "\n",
      "print '<trainer> preprocessing data (color space + normalization)'\n",
      "\n",
      "-- preprocess trainSet\n",
      "normalization = nn.SpatialContrastiveNormalization(1, image.gaussian1D(7))\n",
      "for i = 1,trainData:size() do\n",
      "   -- rgb -> yuv\n",
      "   local rgb = trainData.data[i]\n",
      "   local yuv = image.rgb2yuv(rgb)\n",
      "   -- normalize y locally:\n",
      "   yuv[1] = normalization(yuv[{{1}}])\n",
      "   trainData.data[i] = yuv\n",
      "end\n",
      "-- normalize u globally:\n",
      "mean_u = trainData.data[{ {},2,{},{} }]:mean()\n",
      "std_u = trainData.data[{ {},2,{},{} }]:std()\n",
      "trainData.data[{ {},2,{},{} }]:add(-mean_u)\n",
      "trainData.data[{ {},2,{},{} }]:div(-std_u)\n",
      "-- normalize v globally:\n",
      "mean_v = trainData.data[{ {},3,{},{} }]:mean()\n",
      "std_v = trainData.data[{ {},3,{},{} }]:std()\n",
      "trainData.data[{ {},3,{},{} }]:add(-mean_v)\n",
      "trainData.data[{ {},3,{},{} }]:div(-std_v)\n",
      "\n",
      "-- preprocess testSet\n",
      "for i = 1,testData:size() do\n",
      "   -- rgb -> yuv\n",
      "   local rgb = testData.data[i]\n",
      "   local yuv = image.rgb2yuv(rgb)\n",
      "   -- normalize y locally:\n",
      "   yuv[{1}] = normalization(yuv[{{1}}])\n",
      "   testData.data[i] = yuv\n",
      "end\n",
      "-- normalize u globally:\n",
      "testData.data[{ {},2,{},{} }]:add(-mean_u)\n",
      "testData.data[{ {},2,{},{} }]:div(-std_u)\n",
      "-- normalize v globally:\n",
      "testData.data[{ {},3,{},{} }]:add(-mean_v)\n",
      "testData.data[{ {},3,{},{} }]:div(-std_v)"
     ],
     "language": "python",
     "metadata": {},
     "outputs": [
      {
       "metadata": {},
       "output_type": "pyout",
       "prompt_number": 14,
       "text": [
        "<trainer> preprocessing data (color space + normalization)\t\n"
       ]
      }
     ],
     "prompt_number": 14
    },
    {
     "cell_type": "code",
     "collapsed": false,
     "input": [
      "print(testData.data:size())"
     ],
     "language": "python",
     "metadata": {},
     "outputs": [],
     "prompt_number": 15
    },
    {
     "cell_type": "code",
     "collapsed": false,
     "input": [
      "print(trainData.data:size())"
     ],
     "language": "python",
     "metadata": {},
     "outputs": [
      {
       "metadata": {},
       "output_type": "pyout",
       "prompt_number": 16,
       "text": [
        "\n",
        " 10000\n",
        "     3\n",
        "    32\n",
        "    32\n",
        "[torch.LongStorage of size 4]\n",
        "\n",
        "\n",
        " 50000\n",
        "     3\n",
        "    32\n",
        "    32\n",
        "[torch.LongStorage of size 4]\n",
        "\n"
       ]
      }
     ],
     "prompt_number": 16
    }
   ],
   "metadata": {}
  }
 ]
}