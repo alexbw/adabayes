{
 "metadata": {
  "language": "lua",
  "name": "",
  "signature": "sha256:6257a240be0612448dfcc16f4317bc76f09777038e7ef09599b5b2ec5fba6743"
 },
 "nbformat": 3,
 "nbformat_minor": 0,
 "worksheets": [
  {
   "cells": [
    {
     "cell_type": "code",
     "collapsed": false,
     "input": [
      "require 'paths';"
     ],
     "language": "python",
     "metadata": {},
     "outputs": [],
     "prompt_number": 9
    },
    {
     "cell_type": "code",
     "collapsed": false,
     "input": [
      "stl10 = {}\n",
      "\n",
      "stl10.path_remote = 'http://ai.stanford.edu/~acoates/stl10/stl10_binary.tar.gz'\n",
      "stl10.path_dataset = 'stl10_binary'"
     ],
     "language": "python",
     "metadata": {},
     "outputs": [],
     "prompt_number": 2
    },
    {
     "cell_type": "code",
     "collapsed": false,
     "input": [
      "local remote = stl10.path_remote\n",
      "local tar = paths.basename(remote)"
     ],
     "language": "python",
     "metadata": {},
     "outputs": [],
     "prompt_number": 11
    },
    {
     "cell_type": "code",
     "collapsed": false,
     "input": [
      "function stl10.download()\n",
      "--    if not paths.filep(mnist.path_trainset) or not paths.filep(mnist.path_testset) then\n",
      "      local remote = stl10.path_remote\n",
      "      local tar = paths.basename(remote)\n",
      "      os.execute('wget ' .. remote .. '; ' .. 'tar xvf ' .. tar .. '; rm ' .. tar)\n",
      "--    end\n",
      "end"
     ],
     "language": "python",
     "metadata": {},
     "outputs": [],
     "prompt_number": 22
    },
    {
     "cell_type": "code",
     "collapsed": false,
     "input": [
      "stl10.download()"
     ],
     "language": "python",
     "metadata": {},
     "outputs": [
      {
       "metadata": {},
       "output_type": "pyout",
       "prompt_number": 23,
       "text": [
        "stl10_binary/\n",
        "stl10_binary/test_X.bin\n"
       ]
      },
      {
       "metadata": {},
       "output_type": "pyout",
       "prompt_number": 23,
       "text": [
        "stl10_binary/test_y.bin\n",
        "stl10_binary/train_X.bin\n"
       ]
      },
      {
       "metadata": {},
       "output_type": "pyout",
       "prompt_number": 23,
       "text": [
        "stl10_binary/train_y.bin\n",
        "stl10_binary/unlabeled_X.bin\n"
       ]
      },
      {
       "metadata": {},
       "output_type": "pyout",
       "prompt_number": 23,
       "text": [
        "stl10_binary/class_names.txt\n"
       ]
      },
      {
       "metadata": {},
       "output_type": "pyout",
       "prompt_number": 23,
       "text": [
        "stl10_binary/fold_indices.txt\n"
       ]
      },
      {
       "metadata": {},
       "output_type": "pyout",
       "prompt_number": 23,
       "text": [
        "\n"
       ]
      }
     ],
     "prompt_number": 23
    }
   ],
   "metadata": {}
  }
 ]
}